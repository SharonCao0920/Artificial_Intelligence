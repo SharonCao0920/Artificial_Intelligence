{
  "nbformat": 4,
  "nbformat_minor": 0,
  "metadata": {
    "colab": {
      "name": "CS483 Lab Final Exam.ipynb",
      "provenance": [],
      "collapsed_sections": [],
      "mount_file_id": "1pCMX0lCvImDUBthvRHyChHmTGPsHo05g",
      "authorship_tag": "ABX9TyOoY4pbCc2AEk6vXU547epW",
      "include_colab_link": true
    },
    "kernelspec": {
      "name": "python3",
      "display_name": "Python 3"
    },
    "language_info": {
      "name": "python"
    }
  },
  "cells": [
    {
      "cell_type": "markdown",
      "metadata": {
        "id": "view-in-github",
        "colab_type": "text"
      },
      "source": [
        "<a href=\"https://colab.research.google.com/github/SharonCao0920/AI/blob/main/CS483_Lab_Final_Exam.ipynb\" target=\"_parent\"><img src=\"https://colab.research.google.com/assets/colab-badge.svg\" alt=\"Open In Colab\"/></a>"
      ]
    },
    {
      "cell_type": "code",
      "execution_count": 12,
      "metadata": {
        "id": "U20FYrkFaOoP",
        "colab": {
          "base_uri": "https://localhost:8080/"
        },
        "outputId": "a3ac5f3c-a659-4242-a076-5845d695fe3c"
      },
      "outputs": [
        {
          "output_type": "stream",
          "name": "stdout",
          "text": [
            "After Normalize:\n",
            "\n",
            "[[0.02585438 0.05170877 0.07756315 0.10341754]\n",
            " [0.12927192 0.15512631 0.18098069 0.20683508]\n",
            " [0.23268946 0.25854384 0.28439823 0.31025261]\n",
            " [0.336107   0.36196138 0.38781577 0.41367015]]\n"
          ]
        }
      ],
      "source": [
        "\"\"\"\n",
        "Question1\n",
        "\"\"\"\n",
        "from sklearn import preprocessing\n",
        "import numpy as np\n",
        "x_array = np.array([1,2,3,4,5,6,7,8,9,10,11,12,13,14,15,16])\n",
        "\n",
        "normalized_arr = preprocessing.normalize([x_array])\n",
        "normalized_arr = normalized_arr.reshape((4, 4))\n",
        "print(\"After Normalize:\\n\")\n",
        "print(normalized_arr)"
      ]
    },
    {
      "cell_type": "code",
      "source": [
        "\"\"\"\n",
        "Question2\n",
        "\"\"\"\n",
        "from sklearn import preprocessing\n",
        "X = [[ 1.1,2.2,3.3], [ 4.4,5.5,6.6],[7.7,8.8,9.9]]\n",
        "print(\"After process Binarize\\n\",preprocessing.binarize(X,threshold=5.5))"
      ],
      "metadata": {
        "colab": {
          "base_uri": "https://localhost:8080/"
        },
        "id": "E5s6h1bkh_9f",
        "outputId": "6c67ff33-4711-4b7b-e5b5-083004a08f08"
      },
      "execution_count": 78,
      "outputs": [
        {
          "output_type": "stream",
          "name": "stdout",
          "text": [
            "After process Binarize\n",
            " [[0. 0. 0.]\n",
            " [0. 0. 1.]\n",
            " [1. 1. 1.]]\n"
          ]
        }
      ]
    },
    {
      "cell_type": "code",
      "source": [
        "\"\"\"\n",
        "Question3\n",
        "\"\"\"\n",
        "import numpy as np\n",
        "from sklearn.linear_model import LinearRegression\n",
        "\n",
        "x = np.array([[6], [8], [10], [14], [18]])\n",
        "y = np.array([7,9,13,17.5,18])\n",
        "\n",
        "model = LinearRegression().fit(x, y) \n",
        "\n",
        "r_sq = model.score(x, y)\n",
        "print('coefficient of determination:', r_sq)\n",
        "print('intercept:', model.intercept_)\n",
        "print('slope(coef):', model.coef_) \n",
        "\n",
        "x_test = np.array([8,9,11,16,12]).reshape((-1, 1))\n",
        "y_pred = model.predict(x_test)\n",
        "print('Predicted y:', y_pred, sep='\\n')"
      ],
      "metadata": {
        "colab": {
          "base_uri": "https://localhost:8080/"
        },
        "id": "CyWcWMukoYqB",
        "outputId": "140cb65e-562c-4270-dc5b-3ae402c3a4a7"
      },
      "execution_count": 79,
      "outputs": [
        {
          "output_type": "stream",
          "name": "stdout",
          "text": [
            "coefficient of determination: 0.9100015964240102\n",
            "intercept: 1.965517241379315\n",
            "slope(coef): [0.9762931]\n",
            "Predicted y:\n",
            "[ 9.77586207 10.75215517 12.70474138 17.5862069  13.68103448]\n"
          ]
        }
      ]
    },
    {
      "cell_type": "code",
      "source": [
        "!pwd\n",
        "%cd /content/drive/MyDrive/Colab\\ Notebooks/Lab"
      ],
      "metadata": {
        "colab": {
          "base_uri": "https://localhost:8080/"
        },
        "id": "ncwqNpbGrff8",
        "outputId": "1fae2454-ded0-490b-abf0-083d771de331"
      },
      "execution_count": 48,
      "outputs": [
        {
          "output_type": "stream",
          "name": "stdout",
          "text": [
            "/content/drive/MyDrive/Colab Notebooks\n",
            "/content/drive/MyDrive/Colab Notebooks/Lab\n"
          ]
        }
      ]
    },
    {
      "cell_type": "code",
      "source": [
        "\"\"\"\n",
        "Question4\n",
        "\"\"\"\n",
        "import numpy as np\n",
        "import pandas as pd\n",
        "import statsmodels.api as sm\n",
        "import matplotlib.pyplot as plt\n",
        "import seaborn as sns\n",
        "sns.set()\n",
        "from sklearn.cluster import KMeans\n",
        "data = pd.read_csv('Question4_data.csv')\n",
        "#select features\n",
        "x = data.iloc[:,1:] # 1t for rows and second for columns\n",
        "# print(x)\n",
        "#make k = 4\n",
        "kmeans = KMeans(4)\n",
        "kmeans.fit(x)\n",
        "identified_clusters = kmeans.fit_predict(x)\n",
        "identified_clusters\n",
        "\n",
        "data_with_clusters = data.copy()\n",
        "data_with_clusters['Clusters'] = identified_clusters \n",
        "plt.scatter(data_with_clusters['X0'],data_with_clusters['X1'],c=data_with_clusters['Clusters'],cmap='rainbow')\n"
      ],
      "metadata": {
        "colab": {
          "base_uri": "https://localhost:8080/",
          "height": 526
        },
        "id": "l0cWVdcFrPVh",
        "outputId": "ff572a0b-f359-497c-b95d-9cc3cc891dea"
      },
      "execution_count": 66,
      "outputs": [
        {
          "output_type": "stream",
          "name": "stdout",
          "text": [
            "    X0  X1\n",
            "0    7   5\n",
            "1    5   7\n",
            "2    7   7\n",
            "3    3   3\n",
            "4    4   6\n",
            "5    1   4\n",
            "6    0   0\n",
            "7    2   2\n",
            "8    8   7\n",
            "9    6   8\n",
            "10   5   5\n",
            "11   3   7\n"
          ]
        },
        {
          "output_type": "execute_result",
          "data": {
            "text/plain": [
              "<matplotlib.collections.PathCollection at 0x7fd6099d1a10>"
            ]
          },
          "metadata": {},
          "execution_count": 66
        },
        {
          "output_type": "display_data",
          "data": {
            "text/plain": [
              "<Figure size 432x288 with 1 Axes>"
            ],
            "image/png": "[encoded data removed]"
          },
          "metadata": {}
        }
      ]
    },
    {
      "cell_type": "code",
      "source": [
        "\"\"\"\n",
        "Question 5\n",
        "\"\"\"\n",
        "def getMatrix():\n",
        "  Rows = int(input(\"Give the number of rows:\"))  \n",
        "  Columns = int(input(\"Give the number of columns:\"))  \n",
        "    \n",
        "  # Initializing the matrix  \n",
        "  m = []  \n",
        "  print(\"Please give the entries row-wise:\")  \n",
        "    \n",
        "  # For user input  \n",
        "  for _ in range(Rows):  # This for loop is to arrange rows  \n",
        "      r = []  \n",
        "      for __ in range(Columns):  # This for loop is to arrange columns  \n",
        "          r.append(int(input()))  \n",
        "      m.append(r)\n",
        "  return m  \n",
        "\n",
        "def multiply(x, y):\n",
        "  result = [[0 for _ in range(len(x))] for _ in range(len(y[0]))]\n",
        "  # iterate through rows of X\n",
        "  for i in range(len(x)):\n",
        "    # iterate through columns of Y\n",
        "    for j in range(len(y[0])):\n",
        "        # iterate through rows of Y\n",
        "        for k in range(len(y)):\n",
        "            result[i][j] += x[i][k] * y[k][j]\n",
        "  return result\n",
        "\n",
        "m1=getMatrix()\n",
        "m2=getMatrix()\n",
        "print(\"Multiplication result: \",multiply(m1, m2))\n"
      ],
      "metadata": {
        "colab": {
          "base_uri": "https://localhost:8080/"
        },
        "id": "9b-vqCqCyA6a",
        "outputId": "977a26f3-8629-4686-cb9b-3e537ab4ffb5"
      },
      "execution_count": 96,
      "outputs": [
        {
          "output_type": "stream",
          "name": "stdout",
          "text": [
            "Give the number of rows:1\n",
            "Give the number of columns:3\n",
            "Please give the entries row-wise:\n",
            "1\n",
            "2\n",
            "3\n",
            "Give the number of rows:3\n",
            "Give the number of columns:1\n",
            "Please give the entries row-wise:\n",
            "4\n",
            "5\n",
            "6\n",
            "Multiplication result:  [[32]]\n"
          ]
        }
      ]
    },
    {
      "cell_type": "code",
      "source": [
        "\"\"\"\n",
        "Question 6\n",
        "\"\"\"\n",
        "def getMatrix():\n",
        "  Rows = int(input(\"Give the number of rows:\"))  \n",
        "  Columns = int(input(\"Give the number of columns:\"))  \n",
        "    \n",
        "  # Initializing the matrix  \n",
        "  m = []  \n",
        "  print(\"Please give the entries row-wise:\")  \n",
        "    \n",
        "  # For user input  \n",
        "  for _ in range(Rows):  # This for loop is to arrange rows  \n",
        "      r = []  \n",
        "      for __ in range(Columns):  # This for loop is to arrange columns  \n",
        "          r.append(int(input()))  \n",
        "      m.append(r)\n",
        "  print(\"Matrix\\n\",m)\n",
        "  return m  \n",
        "\n",
        "def transpose(x):\n",
        "  result = [[0 for _ in range(len(x))] for _ in range(len(x[0]))]\n",
        "  # iterate through rows\n",
        "  for i in range(len(x)):\n",
        "    # iterate through columns\n",
        "    for j in range(len(x[0])):\n",
        "        result[j][i] = x[i][j]\n",
        "  return result\n",
        "m=getMatrix()\n",
        "print(\"Transpose of Matrix\",transpose(m))\n"
      ],
      "metadata": {
        "colab": {
          "base_uri": "https://localhost:8080/"
        },
        "id": "riwNJNU4mzKA",
        "outputId": "f3174697-ac93-4ffa-bfdb-2b71b261b2e5"
      },
      "execution_count": 102,
      "outputs": [
        {
          "output_type": "stream",
          "name": "stdout",
          "text": [
            "Give the number of rows:2\n",
            "Give the number of columns:3\n",
            "Please give the entries row-wise:\n",
            "1\n",
            "2\n",
            "3\n",
            "4\n",
            "5\n",
            "6\n",
            "Matrix\n",
            " [[1, 2, 3], [4, 5, 6]]\n",
            "Transpose of Matrix [[1, 4], [2, 5], [3, 6]]\n"
          ]
        }
      ]
    }
  ]
}