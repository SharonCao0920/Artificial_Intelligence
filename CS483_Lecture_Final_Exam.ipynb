{
  "nbformat": 4,
  "nbformat_minor": 0,
  "metadata": {
    "colab": {
      "name": "CS483 Lecture Final Exam.ipynb",
      "provenance": [],
      "collapsed_sections": [],
      "authorship_tag": "ABX9TyPfo7lJGRBcgNzjwMzoG4Ar",
      "include_colab_link": true
    },
    "kernelspec": {
      "name": "python3",
      "display_name": "Python 3"
    },
    "language_info": {
      "name": "python"
    }
  },
  "cells": [
    {
      "cell_type": "markdown",
      "metadata": {
        "id": "view-in-github",
        "colab_type": "text"
      },
      "source": [
        "<a href=\"https://colab.research.google.com/github/SharonCao0920/AI/blob/main/CS483_Lecture_Final_Exam.ipynb\" target=\"_parent\"><img src=\"https://colab.research.google.com/assets/colab-badge.svg\" alt=\"Open In Colab\"/></a>"
      ]
    },
    {
      "cell_type": "code",
      "source": [
        "\"\"\"\n",
        "Question2\n",
        "\"\"\"\n",
        "import random\n",
        "def crossover(parent1,parent2,crs_rate):\n",
        "    p1,p2 = list(parent1),list(parent2) #convert str to list\n",
        "    rand_cross = np.random.random()\n",
        "    #print(rand_cross)\n",
        "\n",
        "    if rand_cross < crs_rate:\n",
        "      pt = np.random.randint(0,10)\n",
        "      for i in range(pt,len(p1)):\n",
        "          p1[i],p2[i] = p2[i],p1[i]       #swap the genetic information\n",
        "    p1,p2 = ''.join(p1),''.join(p2)     #Convert list to str\n",
        "    return p1,p2\n",
        "    \n",
        "\n",
        "\n",
        "parent = ['1101111001','1100001011','1100001011','1110010000','1101111001','1110010000',\n",
        "          '1110100001','0011010000','1101111001','0100110010','1001011010','1101111001',\n",
        "          '0111011111','1001110101','1101111001','1110100001']\n",
        "print(\"Original Parent\\n\", parent)\n",
        "child=[]\n",
        "for i in range(int(len(parent)/2)):\n",
        "  if i == 0:\n",
        "    p1 = parent[i]\n",
        "    p2 = parent[i+1]\n",
        "  else:\n",
        "    p1 = parent[i*2]\n",
        "    p2 = parent[i*2+1] \n",
        "\n",
        "  offspring1,offspring2 = crossover(p1,p2,0.8)\n",
        "  child.append(offspring1)\n",
        "  child.append(offspring2)\n",
        "print(\"After crossover\\n\", child)\n"
      ],
      "metadata": {
        "colab": {
          "base_uri": "https://localhost:8080/"
        },
        "id": "IveOvvAw5G3i",
        "outputId": "1eb5e9f2-c794-4eb0-8278-35ac1dbbab27"
      },
      "execution_count": 58,
      "outputs": [
        {
          "output_type": "stream",
          "name": "stdout",
          "text": [
            "Original Parent\n",
            " ['1101111001', '1100001011', '1100001011', '1110010000', '1101111001', '1110010000', '1110100001', '0011010000', '1101111001', '0100110010', '1001011010', '1101111001', '0111011111', '1001110101', '1101111001', '1110100001']\n",
            "After crossover\n",
            " ['1101111001', '1100001011', '1100001011', '1110010000', '1110010000', '1101111001', '1110010000', '0011100001', '0100110010', '1101111001', '1001011010', '1101111001', '0101110101', '1011011111', '1110100001', '1101111001']\n"
          ]
        }
      ]
    },
    {
      "cell_type": "code",
      "source": [
        "\"\"\"\n",
        "Question3\n",
        "\"\"\"\n",
        "import numpy as np\n",
        "def mutation(parent, mutation_rate):\n",
        "  chro_s = len(parent[0])\n",
        "  p_size = len(parent)\n",
        "  size = chro_s*p_size*mutation_rate\n",
        "  # print(chro_s)\n",
        "  # print(p_size)\n",
        "  print(\"Size is: \",size)\n",
        "  for i in range(4):\n",
        "    id = np.random.randint(0, p_size)\n",
        "    pos = np.random.randint(0, chro_s)\n",
        "    print(id, pos)\n",
        "    print(parent[id])\n",
        "    p = list(parent[id])\n",
        "    print(p)\n",
        "    if p[pos]=='0':\n",
        "      p[pos] = '1'\n",
        "    else:\n",
        "      p[pos] = '0'\n",
        "    print(p)\n",
        "    parent[id]=''.join(p)\n",
        "  return parent\n",
        "\n",
        "mutation_rate = 0.025\n",
        "parent=['1001011010','1110010000','0111010100','1110010101','0111010000',\n",
        "        '1110010101','1110100011','1110100001','0100111000','0110010011',\n",
        "        '1110001011','1000010010','0001011010','1011010000','1101101001','1110010000']\n",
        "parent_m = mutation(parent, mutation_rate)\n",
        "print(\"\\nOriginal:\\n\", parent)\n",
        "print(\"After mutation: \\n\",parent_m)"
      ],
      "metadata": {
        "colab": {
          "base_uri": "https://localhost:8080/"
        },
        "id": "UVFaeDDD6nUt",
        "outputId": "9865547c-c69a-4f4b-8e71-1ce20a2e8ce7"
      },
      "execution_count": 77,
      "outputs": [
        {
          "output_type": "stream",
          "name": "stdout",
          "text": [
            "Size is:  4.0\n",
            "12 9\n",
            "0001011010\n",
            "['0', '0', '0', '1', '0', '1', '1', '0', '1', '0']\n",
            "['0', '0', '0', '1', '0', '1', '1', '0', '1', '1']\n",
            "3 8\n",
            "1110010101\n",
            "['1', '1', '1', '0', '0', '1', '0', '1', '0', '1']\n",
            "['1', '1', '1', '0', '0', '1', '0', '1', '1', '1']\n",
            "12 6\n",
            "0001011011\n",
            "['0', '0', '0', '1', '0', '1', '1', '0', '1', '1']\n",
            "['0', '0', '0', '1', '0', '1', '0', '0', '1', '1']\n",
            "11 1\n",
            "1000010010\n",
            "['1', '0', '0', '0', '0', '1', '0', '0', '1', '0']\n",
            "['1', '1', '0', '0', '0', '1', '0', '0', '1', '0']\n",
            "\n",
            "Original:\n",
            " ['1001011010', '1110010000', '0111010100', '1110010111', '0111010000', '1110010101', '1110100011', '1110100001', '0100111000', '0110010011', '1110001011', '1100010010', '0001010011', '1011010000', '1101101001', '1110010000']\n",
            "After mutation: \n",
            " ['1001011010', '1110010000', '0111010100', '1110010111', '0111010000', '1110010101', '1110100011', '1110100001', '0100111000', '0110010011', '1110001011', '1100010010', '0001010011', '1011010000', '1101101001', '1110010000']\n"
          ]
        }
      ]
    },
    {
      "cell_type": "code",
      "source": [
        "\"\"\"\n",
        "Question 4\n",
        "\"\"\"\n",
        "\n",
        "import numpy as np\n",
        "states = [\"London\", \"Barcelona\", \"New York\"]\n",
        "n_states = len(states)   # =3\n",
        "\n",
        "# observations = [\"red\", \"white\"]\n",
        "# n_observations = len(observations)\n",
        "start_probability = np.matrix([0.1, 0.6, 0.3]) \n",
        "\n",
        "transition_probability = np.matrix([\n",
        "    [0.10, 0.70, 0.20],\n",
        "    [0.75, 0.15, 0.10],\n",
        "    [0.60, 0.35, 0.05] \n",
        "])\n",
        "#after 1 day\n",
        "P1 =start_probability * transition_probability\n",
        "print(\"---Wednesday probability---\")\n",
        "print(states,\"\\n\", P1)\n",
        "\n",
        "#after 2 day\n",
        "P2 =P1 * transition_probability\n",
        "print(\"---Thursday probability---\")\n",
        "print(states,\"\\n\", P2)\n",
        "#after 3 day\n",
        "P3 =P2 * transition_probability\n",
        "print(\"---Friday probability---\")\n",
        "print(states,\"\\n\", P3)\n",
        "\n",
        "print(\"\\n=====================Final Result======================\")\n",
        "for i in range(P3.size):\n",
        "  print(\"Probability of in \", states[i], \" on Friday is \", P3.item(0,i))\n"
      ],
      "metadata": {
        "colab": {
          "base_uri": "https://localhost:8080/"
        },
        "id": "u4G0kB6gCtdg",
        "outputId": "75628ea5-6d5b-4079-83f7-697fb9c10565"
      },
      "execution_count": 106,
      "outputs": [
        {
          "output_type": "stream",
          "name": "stdout",
          "text": [
            "---Wednesday probability---\n",
            "['London', 'Barcelona', 'New York'] \n",
            " [[0.64  0.265 0.095]]\n",
            "---Thursday probability---\n",
            "['London', 'Barcelona', 'New York'] \n",
            " [[0.31975 0.521   0.15925]]\n",
            "---Friday probability---\n",
            "['London', 'Barcelona', 'New York'] \n",
            " [[0.518275  0.3577125 0.1240125]]\n",
            "\n",
            "=====================Final Result======================\n",
            "Probability of in  London  on Friday is  0.5182749999999999\n",
            "Probability of in  Barcelona  on Friday is  0.35771249999999993\n",
            "Probability of in  New York  on Friday is  0.12401249999999998\n"
          ]
        }
      ]
    }
  ]
}