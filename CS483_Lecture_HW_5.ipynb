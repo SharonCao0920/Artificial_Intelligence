{
  "nbformat": 4,
  "nbformat_minor": 0,
  "metadata": {
    "colab": {
      "name": "CS483 Lecture HW#5.ipynb",
      "provenance": [],
      "collapsed_sections": [],
      "authorship_tag": "ABX9TyO+cU84FGJU0VGFApCZ1aX/",
      "include_colab_link": true
    },
    "kernelspec": {
      "name": "python3",
      "display_name": "Python 3"
    },
    "language_info": {
      "name": "python"
    }
  },
  "cells": [
    {
      "cell_type": "markdown",
      "metadata": {
        "id": "view-in-github",
        "colab_type": "text"
      },
      "source": [
        "<a href=\"https://colab.research.google.com/github/SharonCao0920/AI/blob/main/CS483_Lecture_HW_5.ipynb\" target=\"_parent\"><img src=\"https://colab.research.google.com/assets/colab-badge.svg\" alt=\"Open In Colab\"/></a>"
      ]
    },
    {
      "cell_type": "code",
      "source": [
        "# cost function\n",
        "def sphere(x):\n",
        "   return sum(np.exp(-x*x)+0.1*np.cos(200*x))"
      ],
      "metadata": {
        "id": "gvpsdFuLBLBL"
      },
      "execution_count": null,
      "outputs": []
    },
    {
      "cell_type": "code",
      "execution_count": null,
      "metadata": {
        "colab": {
          "base_uri": "https://localhost:8080/"
        },
        "id": "BsEMbytgBCtU",
        "outputId": "e874e6e1-16b4-4115-e4a5-d29d04442418"
      },
      "outputs": [
        {
          "output_type": "stream",
          "name": "stdout",
          "text": [
            "{0: {'position': array([0.65462612]), 'cost': 0.70365694268441}, 1: {'position': array([0.47741949]), 'cost': 0.8290270898596196}, 2: {'position': array([0.06846138]), 'cost': 1.0383599053581207}, 3: {'position': array([0.17552824]), 'cost': 0.8843094756833205}, 4: {'position': array([0.73097898]), 'cost': 0.5749111234059756}, 5: {'position': array([-0.56335736]), 'cost': 0.8191284554551542}, 6: {'position': array([1.84022454]), 'cost': -0.05493623115577136}, 7: {'position': array([-0.20643295]), 'cost': 0.8680577586411601}, 8: {'position': array([1.96486654]), 'cost': -0.07521023791845968}, 9: {'position': array([-0.48985279]), 'cost': 0.703081436066193}}\n"
          ]
        }
      ],
      "source": [
        "import numpy as np\n",
        "# Placeholder for every individual\n",
        "population = {}\n",
        "# population size\n",
        "npop = 10\n",
        "# lower bound\n",
        "varmin = -2\n",
        "# upper bound\n",
        "varmax = 2\n",
        "# cost function\n",
        "costfunc = sphere\n",
        "# each inidivdual has position(chromosomes) and cost\n",
        "for i in range(npop):\n",
        "   population[i] = {'position': None, 'cost': None}\n",
        "for i in range(npop):\n",
        "   population[i]['position'] = np.random.uniform(varmin, varmax, 1)\n",
        "   population[i]['cost'] = costfunc(population[i]['position'])\n",
        "print(population)"
      ]
    },
    {
      "cell_type": "code",
      "source": [
        "q = np.random.permutation(npop)\n",
        "p1 = population[q[0]]\n",
        "p2 = population[q[1]]\n",
        "print(p1)\n",
        "print(p2)"
      ],
      "metadata": {
        "colab": {
          "base_uri": "https://localhost:8080/"
        },
        "id": "dQEtea1LCF7s",
        "outputId": "4fbff570-07f2-4888-9686-2f2855187d75"
      },
      "execution_count": null,
      "outputs": [
        {
          "output_type": "stream",
          "name": "stdout",
          "text": [
            "{'position': array([1.84022454]), 'cost': -0.05493623115577136}\n",
            "{'position': array([0.06846138]), 'cost': 1.0383599053581207}\n"
          ]
        }
      ]
    },
    {
      "cell_type": "code",
      "source": [
        "costs=[]\n",
        "# Calculating probability for roulette wheel selection\n",
        "beta = 1\n",
        "for i in range(len(population)):\n",
        "   # list of all the population cost\n",
        "   costs.append(population[i]['cost'])\n",
        "costs = np.array(costs)\n",
        "avg_cost = np.mean(costs)\n",
        "if avg_cost != 0:\n",
        "   costs = costs/avg_cost\n",
        "probs = np.exp(-beta*costs)\n",
        "print(\"probs is \", probs)"
      ],
      "metadata": {
        "colab": {
          "base_uri": "https://localhost:8080/"
        },
        "id": "WtlfNoexCv1V",
        "outputId": "6b1d970e-15ec-40a2-9f28-ab4482332ab4"
      },
      "execution_count": null,
      "outputs": [
        {
          "output_type": "stream",
          "name": "stdout",
          "text": [
            "probs is  [0.32672943 0.26768957 0.19191371 0.24516809 0.40093655 0.27193529\n",
            " 1.09126071 0.25158474 1.12700514 0.32702849]\n"
          ]
        }
      ]
    },
    {
      "cell_type": "code",
      "source": [
        "def roulette_wheel_selection(p):\n",
        "   c = np.cumsum(p)\n",
        "   r = sum(p) * np.random.rand()\n",
        "   ind = np.argwhere(r <= c)\n",
        "   return ind[0][0]\n",
        "p1 = population[roulette_wheel_selection(probs)]\n",
        "p2 = population[roulette_wheel_selection(probs)]\n",
        "print(p1)\n",
        "print(p2)"
      ],
      "metadata": {
        "colab": {
          "base_uri": "https://localhost:8080/"
        },
        "id": "nVqLyESaCRPm",
        "outputId": "dcfa1ba0-3eb1-40df-9c1c-3a20eadbced7"
      },
      "execution_count": null,
      "outputs": [
        {
          "output_type": "stream",
          "name": "stdout",
          "text": [
            "{'position': array([1.84022454]), 'cost': -0.05493623115577136}\n",
            "{'position': array([0.47741949]), 'cost': 0.8290270898596196}\n"
          ]
        }
      ]
    },
    {
      "cell_type": "code",
      "source": [
        "def crossover(p1, p2):\n",
        "   c1 = copy.deepcopy(p1)\n",
        "   c2 = copy.deepcopy(p2)\n",
        "   alpha = np.random.uniform(0, 1, *(c1['position'].shape))\n",
        "   c1['position'] = alpha*p1['position'] + (1-alpha)*p2['position']\n",
        "   c2['position'] = alpha*p2['position'] + (1-alpha)*p1['position'] \n",
        "   return c1, c2"
      ],
      "metadata": {
        "id": "J6unvceVDWDx"
      },
      "execution_count": null,
      "outputs": []
    },
    {
      "cell_type": "code",
      "source": [
        "def mutate(c, mu, sigma):\n",
        "   # mu - mutation rate. % of gene to be modified\n",
        "   # sigma - step size of mutation\n",
        "   # mutation = original gene + (step size * random number)   \n",
        "   y = copy.deepcopy(c)   \n",
        "   # array of True and Flase, indicating the mutation position\n",
        "   flag = np.random.rand(*(c['position'].shape)) <= mu\n",
        "   ind = np.argwhere(flag)\n",
        "   y['position'][ind] += sigma * np.random.randn(*ind.shape)\n",
        "   return y"
      ],
      "metadata": {
        "id": "q9a0JfSWDbSV"
      },
      "execution_count": null,
      "outputs": []
    },
    {
      "cell_type": "code",
      "source": [
        "# Evaluate first off spring\n",
        "# calculate cost function of child 1\n",
        "c1={}\n",
        "for i in range(npop):\n",
        "   c1[i] = {'position': None, 'cost': None}\n",
        "c1['cost'] = costfunc(c1['position'])\n",
        "if type(bestsol_cost) == float:\n",
        "  # replacing best solution in every generation/iteration\n",
        "  if c1['cost'] < bestsol_cost:\n",
        "    bestsol_cost = copy.deepcopy(c1)\n",
        "else:\n",
        "   # replacing best solution in every generation/iteration\n",
        "   if c1['cost'] < bestsol_cost['cost']:\n",
        "     bestsol_cost = copy.deepcopy(c1)\n",
        "# Evaluate second off spring\n",
        "if c2['cost'] < bestsol_cost['cost']:\n",
        "bestsol_cost = copy.deepcopy(c2)"
      ],
      "metadata": {
        "colab": {
          "base_uri": "https://localhost:8080/",
          "height": 130
        },
        "id": "tn9Qik6pDdkO",
        "outputId": "7460ef54-5765-44f8-d585-bd3b1fedb1b6"
      },
      "execution_count": null,
      "outputs": [
        {
          "output_type": "error",
          "ename": "IndentationError",
          "evalue": "ignored",
          "traceback": [
            "\u001b[0;36m  File \u001b[0;32m\"<ipython-input-32-19d1f89f7245>\"\u001b[0;36m, line \u001b[0;32m17\u001b[0m\n\u001b[0;31m    bestsol_cost = copy.deepcopy(c2)\u001b[0m\n\u001b[0m               ^\u001b[0m\n\u001b[0;31mIndentationError\u001b[0m\u001b[0;31m:\u001b[0m expected an indented block\n"
          ]
        }
      ]
    }
  ]
}